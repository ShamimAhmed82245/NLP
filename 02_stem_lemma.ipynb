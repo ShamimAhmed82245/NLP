{
  "nbformat": 4,
  "nbformat_minor": 0,
  "metadata": {
    "colab": {
      "provenance": []
    },
    "kernelspec": {
      "name": "python3",
      "display_name": "Python 3"
    },
    "language_info": {
      "name": "python"
    }
  },
  "cells": [
    {
      "cell_type": "code",
      "execution_count": null,
      "metadata": {
        "id": "JtkCFVcxMHn1",
        "colab": {
          "base_uri": "https://localhost:8080/"
        },
        "outputId": "442918bd-1b18-4058-8c5c-dd25f2c6905b"
      },
      "outputs": [
        {
          "output_type": "execute_result",
          "data": {
            "text/plain": [
              "['text',\n",
              " 'preprocess',\n",
              " 'techniqu',\n",
              " 'for',\n",
              " 'natur',\n",
              " 'languag',\n",
              " 'process',\n",
              " 'by',\n",
              " 'aysel',\n",
              " 'aydin']"
            ]
          },
          "metadata": {},
          "execution_count": 1
        }
      ],
      "source": [
        "from nltk.stem.porter import PorterStemmer\n",
        "\n",
        "stemmer = PorterStemmer()\n",
        "\n",
        "def stem_words(word):\n",
        "  word_tokens = text.split()\n",
        "  stems = [stemmer.stem(word) for word in word_tokens]\n",
        "  return stems\n",
        "\n",
        "text = 'text preprocessing techniques for natural language processing by Aysel Aydin'\n",
        "stem_words(text)\n",
        "print(stem_words(text))"
      ]
    },
    {
      "cell_type": "code",
      "source": [
        "import nltk\n",
        "nltk.download('wordnet')"
      ],
      "metadata": {
        "colab": {
          "base_uri": "https://localhost:8080/"
        },
        "id": "dyTncZ95nGp5",
        "outputId": "38327057-f866-4343-d29f-5c33724c7cc4"
      },
      "execution_count": null,
      "outputs": [
        {
          "output_type": "stream",
          "name": "stderr",
          "text": [
            "[nltk_data] Downloading package wordnet to /root/nltk_data...\n"
          ]
        },
        {
          "output_type": "execute_result",
          "data": {
            "text/plain": [
              "True"
            ]
          },
          "metadata": {},
          "execution_count": 5
        }
      ]
    },
    {
      "cell_type": "code",
      "source": [
        "from nltk.stem import WordNetLemmatizer\n",
        "\n",
        "lemmatizer = WordNetLemmatizer()\n",
        "\n",
        "def lemmatize_words(text):\n",
        "  word_tokens = text.split()\n",
        "  lemmas = [lemmatizer.lemmatize(word,pos='v') for word in word_tokens]\n",
        "  return lemmas\n",
        "\n",
        "text = 'text preprocessing techniques for natural language processing by Aysel Aydin'\n",
        "lemmatize_words(text)\n",
        "print(lemmatize_words(text))"
      ],
      "metadata": {
        "colab": {
          "base_uri": "https://localhost:8080/"
        },
        "id": "Q6GHZZkHl8vD",
        "outputId": "ed9d314d-1eb0-4d6f-ab88-85412bc7a7e1"
      },
      "execution_count": null,
      "outputs": [
        {
          "output_type": "stream",
          "name": "stdout",
          "text": [
            "['text', 'preprocessing', 'techniques', 'for', 'natural', 'language', 'process', 'by', 'Aysel', 'Aydin']\n"
          ]
        }
      ]
    },
    {
      "cell_type": "code",
      "source": [],
      "metadata": {
        "id": "SKUCNS23m7Mw"
      },
      "execution_count": null,
      "outputs": []
    }
  ]
}